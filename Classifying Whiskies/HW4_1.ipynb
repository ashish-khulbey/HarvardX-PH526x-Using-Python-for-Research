{
  "nbformat": 4,
  "nbformat_minor": 0,
  "metadata": {
    "hide_input": false,
    "kernelspec": {
      "display_name": "Python 3",
      "language": "python",
      "name": "python3"
    },
    "language_info": {
      "codemirror_mode": {
        "name": "ipython",
        "version": 3
      },
      "file_extension": ".py",
      "mimetype": "text/x-python",
      "name": "python",
      "nbconvert_exporter": "python",
      "pygments_lexer": "ipython3",
      "version": "3.7.7"
    },
    "toc": {
      "base_numbering": 1,
      "nav_menu": {},
      "number_sections": true,
      "sideBar": true,
      "skip_h1_title": false,
      "title_cell": "Table of Contents",
      "title_sidebar": "Contents",
      "toc_cell": false,
      "toc_position": {},
      "toc_section_display": true,
      "toc_window_display": false
    },
    "colab": {
      "name": "HW4-1.ipynb",
      "provenance": []
    }
  },
  "cells": [
    {
      "cell_type": "markdown",
      "metadata": {
        "id": "5D4yfGKrUyM9",
        "colab_type": "text"
      },
      "source": [
        "# Using Python for Research Homework: Week 4, Case Study 1\n",
        "\n",
        "In this case study, we have prepared step-by-step instructions for you on how to prepare plots in Bokeh, a library designed for simple, interactive plotting.  We will demonstrate Bokeh by continuing the analysis of Scotch whiskies."
      ]
    },
    {
      "cell_type": "code",
      "metadata": {
        "scrolled": true,
        "id": "4YdH2CENUyM_",
        "colab_type": "code",
        "colab": {
          "base_uri": "https://localhost:8080/",
          "height": 72
        },
        "outputId": "cbac766b-9ebe-4f01-cdc8-76ee4d0dbc45"
      },
      "source": [
        "# DO NOT EDIT THIS CODE\n",
        "from sklearn.cluster.bicluster import SpectralCoclustering\n",
        "import numpy as np, pandas as pd\n",
        "\n",
        "whisky = pd.read_csv(\"https://courses.edx.org/asset-v1:HarvardX+PH526x+2T2019+type@asset+block@whiskies.csv\", index_col=0)\n",
        "correlations = pd.DataFrame.corr(whisky.iloc[:,2:14].transpose())\n",
        "correlations = np.array(correlations)"
      ],
      "execution_count": 1,
      "outputs": [
        {
          "output_type": "stream",
          "text": [
            "/usr/local/lib/python3.6/dist-packages/sklearn/utils/deprecation.py:144: FutureWarning: The sklearn.cluster.bicluster module is  deprecated in version 0.22 and will be removed in version 0.24. The corresponding classes / functions should instead be imported from sklearn.cluster. Anything that cannot be imported from sklearn.cluster is now part of the private API.\n",
            "  warnings.warn(message, FutureWarning)\n"
          ],
          "name": "stderr"
        }
      ]
    },
    {
      "cell_type": "markdown",
      "metadata": {
        "id": "bjkXYBUeUyNF",
        "colab_type": "text"
      },
      "source": [
        "### Exercise 1\n",
        "\n",
        "In this exercise, we provide a basic demonstration of an interactive grid plot using Bokeh. Make sure to study this code now, as we will edit similar code in the exercises that follow.\n",
        "\n",
        "#### Instructions\n",
        "- Execute the following code and follow along with the comments. We will later adapt this code to plot the correlations among distillery flavor profiles as well as plot a geographical map of distilleries colored by region and flavor profile.\n",
        "- Once you have plotted the code, hover, click, and drag your cursor on the plot to interact with it. Additionally, explore the icons in the top-right corner of the plot for more interactive options!"
      ]
    },
    {
      "cell_type": "code",
      "metadata": {
        "scrolled": true,
        "id": "a48WnMLPUyNG",
        "colab_type": "code",
        "colab": {
          "base_uri": "https://localhost:8080/",
          "height": 54
        },
        "outputId": "decdfc86-6a27-46f5-e8e3-f8e1df5a9c34"
      },
      "source": [
        "# First, we import a tool to allow text to pop up on a plot when the cursor\n",
        "# hovers over it.  Also, we import a data structure used to store arguments\n",
        "# of what to plot in Bokeh.  Finally, we will use numpy for this section as well!\n",
        "\n",
        "from bokeh.models import HoverTool, ColumnDataSource\n",
        "\n",
        "# Let's plot a simple 5x5 grid of squares, alternating between two colors.\n",
        "plot_values = [1,2,3,4,5]\n",
        "plot_colors = ['#0173b2', '#de8f05']\n",
        "\n",
        "# How do we tell Bokeh to plot each point in a grid?  Let's use a function that\n",
        "# finds each combination of values from 1-5.\n",
        "from itertools import product\n",
        "\n",
        "grid = list(product(plot_values, plot_values))\n",
        "print(grid)"
      ],
      "execution_count": 2,
      "outputs": [
        {
          "output_type": "stream",
          "text": [
            "[(1, 1), (1, 2), (1, 3), (1, 4), (1, 5), (2, 1), (2, 2), (2, 3), (2, 4), (2, 5), (3, 1), (3, 2), (3, 3), (3, 4), (3, 5), (4, 1), (4, 2), (4, 3), (4, 4), (4, 5), (5, 1), (5, 2), (5, 3), (5, 4), (5, 5)]\n"
          ],
          "name": "stdout"
        }
      ]
    },
    {
      "cell_type": "code",
      "metadata": {
        "scrolled": true,
        "id": "jmschbAkUyNL",
        "colab_type": "code",
        "colab": {
          "base_uri": "https://localhost:8080/",
          "height": 72
        },
        "outputId": "fcedb20c-fbcb-4264-b4d9-b1af7dcf7ddf"
      },
      "source": [
        "# The first value is the x coordinate, and the second value is the y coordinate.\n",
        "# Let's store these in separate lists.\n",
        "\n",
        "xs, ys = zip(*grid)\n",
        "print(xs)\n",
        "print(ys)"
      ],
      "execution_count": 3,
      "outputs": [
        {
          "output_type": "stream",
          "text": [
            "(1, 1, 1, 1, 1, 2, 2, 2, 2, 2, 3, 3, 3, 3, 3, 4, 4, 4, 4, 4, 5, 5, 5, 5, 5)\n",
            "(1, 2, 3, 4, 5, 1, 2, 3, 4, 5, 1, 2, 3, 4, 5, 1, 2, 3, 4, 5, 1, 2, 3, 4, 5)\n"
          ],
          "name": "stdout"
        }
      ]
    },
    {
      "cell_type": "code",
      "metadata": {
        "scrolled": true,
        "id": "5qNotzFTUyNP",
        "colab_type": "code",
        "colab": {
          "base_uri": "https://localhost:8080/",
          "height": 54
        },
        "outputId": "d4c08f87-9bab-4f1c-eda9-189e0e679d80"
      },
      "source": [
        "# Now we will make a list of colors, alternating between red and blue.\n",
        "\n",
        "colors = [plot_colors[i%2] for i in range(len(grid))]\n",
        "print(colors)"
      ],
      "execution_count": 4,
      "outputs": [
        {
          "output_type": "stream",
          "text": [
            "['#0173b2', '#de8f05', '#0173b2', '#de8f05', '#0173b2', '#de8f05', '#0173b2', '#de8f05', '#0173b2', '#de8f05', '#0173b2', '#de8f05', '#0173b2', '#de8f05', '#0173b2', '#de8f05', '#0173b2', '#de8f05', '#0173b2', '#de8f05', '#0173b2', '#de8f05', '#0173b2', '#de8f05', '#0173b2']\n"
          ],
          "name": "stdout"
        }
      ]
    },
    {
      "cell_type": "code",
      "metadata": {
        "scrolled": true,
        "id": "W_Io0QdwUyNU",
        "colab_type": "code",
        "colab": {}
      },
      "source": [
        "# Finally, let's determine the strength of transparency (alpha) for each point,\n",
        "# where 0 is completely transparent.\n",
        "\n",
        "alphas = np.linspace(0, 1, len(grid))\n",
        "\n",
        "# Bokeh likes each of these to be stored in a special dataframe, called\n",
        "# ColumnDataSource.  Let's store our coordinates, colors, and alpha values.\n",
        "\n",
        "source = ColumnDataSource(\n",
        "    data = {\n",
        "        \"x\": xs,\n",
        "        \"y\": ys,\n",
        "        \"colors\": colors,\n",
        "        \"alphas\": alphas,\n",
        "    }\n",
        ")\n",
        "# We are ready to make our interactive Bokeh plot!\n",
        "from bokeh.plotting import figure, output_file, show\n",
        "\n",
        "output_file(\"Basic_Example.html\", title=\"Basic Example\")\n",
        "fig = figure(tools=\"hover\")\n",
        "fig.rect(\"x\", \"y\", 0.9, 0.9, source=source, color=\"colors\",alpha=\"alphas\")\n",
        "hover = fig.select(dict(type=HoverTool))\n",
        "hover.tooltips = {\n",
        "    \"Value\": \"@x, @y\",\n",
        "    }\n",
        "show(fig)"
      ],
      "execution_count": 0,
      "outputs": []
    },
    {
      "cell_type": "markdown",
      "metadata": {
        "id": "MUewyYWRUyNZ",
        "colab_type": "text"
      },
      "source": [
        "### Exercise 2\n",
        "\n",
        "In this exercise, we will create the names and colors we will use to plot the correlation matrix of whisky flavors. Later, we will also use these colors to plot each distillery geographically.\n",
        "\n",
        "#### Instructions \n",
        "- Create a dictionary `region_colors` with `regions` as keys and `cluster_colors` as values.\n",
        "- Print `region_colors`."
      ]
    },
    {
      "cell_type": "code",
      "metadata": {
        "scrolled": true,
        "id": "reayqKWiUyNa",
        "colab_type": "code",
        "colab": {
          "base_uri": "https://localhost:8080/",
          "height": 34
        },
        "outputId": "5b5ee274-24a5-4e7f-8f97-704e06b411f2"
      },
      "source": [
        "cluster_colors = ['#0173b2', '#de8f05', '#029e73', '#d55e00', '#cc78bc', '#ca9161']\n",
        "regions = [\"Speyside\", \"Highlands\", \"Lowlands\", \"Islands\", \"Campbelltown\", \"Islay\"]\n",
        "\n",
        "region_colors = dict(zip(regions,cluster_colors))## ENTER CODE HERE! ##\n",
        "region_colors[\"Campbelltown\"]"
      ],
      "execution_count": 9,
      "outputs": [
        {
          "output_type": "execute_result",
          "data": {
            "text/plain": [
              "'#cc78bc'"
            ]
          },
          "metadata": {
            "tags": []
          },
          "execution_count": 9
        }
      ]
    },
    {
      "cell_type": "markdown",
      "metadata": {
        "id": "5Mn30TA_UyNg",
        "colab_type": "text"
      },
      "source": [
        "### Exercise 3\n",
        "\n",
        "`correlations` is a two-dimensional `np.array` with both rows and columns corresponding to distilleries and elements corresponding to the flavor correlation of each row/column pair. In this exercise, we will define a list `correlation_colors`, with `string` values corresponding to colors to be used to plot each distillery pair. Low correlations among distillery pairs will be white, high correlations will be a distinct group color if the distilleries from the same group, and gray otherwise.\n",
        "\n",
        "#### Instructions\n",
        "\n",
        "- Edit the code to define `correlation_colors` for each distillery pair to have input `'white'` if their correlation is less than 0.7.\n",
        "- `whisky` is a `pandas` dataframe, and `Group` is a column consisting of distillery group memberships. For distillery pairs with correlation greater than 0.7, if they share the same whisky group, use the corresponding color from `cluster_colors`. Otherwise, the `correlation_colors` value for that distillery pair will be defined as `'lightgray'`."
      ]
    },
    {
      "cell_type": "code",
      "metadata": {
        "scrolled": true,
        "id": "0mhw2IzDUyNi",
        "colab_type": "code",
        "colab": {
          "base_uri": "https://localhost:8080/",
          "height": 34
        },
        "outputId": "6de088c0-ccf2-4a6d-f455-8dd8d38de4e0"
      },
      "source": [
        "distilleries = list(whisky.Distillery)\n",
        "correlation_colors = []\n",
        "for i in range(len(distilleries)):\n",
        "    for j in range(len(distilleries)):\n",
        "        if correlations[i, j] < 0.70: ## ENTER CODE HERE! ##                      # if low correlation,\n",
        "            correlation_colors.append('white')         # just use white.\n",
        "        else:                                          # otherwise,\n",
        "            if whisky.Group[i]==whisky.Group[j]: ## ENTER CODE HERE! ##                  # if the groups match,\n",
        "                correlation_colors.append(cluster_colors[whisky.Group[i]]) # color them by their mutual group.\n",
        "            else:                                      # otherwise\n",
        "                correlation_colors.append('lightgray') # color them lightgray.\n",
        "correlation_colors.count('lightgray')"
      ],
      "execution_count": 18,
      "outputs": [
        {
          "output_type": "execute_result",
          "data": {
            "text/plain": [
              "468"
            ]
          },
          "metadata": {
            "tags": []
          },
          "execution_count": 18
        }
      ]
    },
    {
      "cell_type": "markdown",
      "metadata": {
        "id": "RHqZyrsrUyNn",
        "colab_type": "text"
      },
      "source": [
        "### Exercise 4\n",
        "\n",
        "In this exercise, we will edit the given code to make an interactive grid of the correlations among distillery pairs based on the quantities found in previous exercises. Most plotting specifications are made by editing `ColumnDataSource`, a `bokeh` structure used for defining interactive plotting inputs. The rest of the plotting code is already complete.\n",
        "\n",
        "#### Instructions \n",
        "\n",
        "- `correlation_colors` is a list of `string` colors for each pair of distilleries. Set this as `color` in `ColumnDataSource`.\n",
        "- Define `correlations` in `source` using `correlations` from the previous exercise. To convert `correlations` from a `np.array` to a `list`, use the `flatten()` method. This correlation coefficient will be used to define both the color transparency as well as the hover text for each square."
      ]
    },
    {
      "cell_type": "code",
      "metadata": {
        "scrolled": true,
        "id": "SzO36TxZUyNo",
        "colab_type": "code",
        "colab": {}
      },
      "source": [
        "source = ColumnDataSource(\n",
        "    data = {\n",
        "        \"x\": np.repeat(distilleries,len(distilleries)),\n",
        "        \"y\": list(distilleries)*len(distilleries),\n",
        "        \"colors\":correlation_colors, \n",
        "        \"correlations\": correlations.flatten()\n",
        "    }\n",
        ")\n",
        "\n",
        "output_file(\"Whisky Correlations.html\", title=\"Whisky Correlations\")\n",
        "fig = figure(title=\"Whisky Correlations\",\n",
        "    x_axis_location=\"above\", x_range=list(reversed(distilleries)), y_range=distilleries,\n",
        "    tools=\"hover,box_zoom,reset\")\n",
        "fig.grid.grid_line_color = None\n",
        "fig.axis.axis_line_color = None\n",
        "fig.axis.major_tick_line_color = None\n",
        "fig.axis.major_label_text_font_size = \"5pt\"\n",
        "fig.xaxis.major_label_orientation = np.pi / 3\n",
        "fig.rect('x', 'y', .9, .9, source=source,\n",
        "     color='colors', alpha='correlations')\n",
        "hover = fig.select(dict(type=HoverTool))\n",
        "hover.tooltips = {\n",
        "    \"Whiskies\": \"@x, @y\",\n",
        "    \"Correlation\": \"@correlations\",\n",
        "}\n",
        "show(fig)"
      ],
      "execution_count": 0,
      "outputs": []
    },
    {
      "cell_type": "markdown",
      "metadata": {
        "id": "Tvl8b3KWUyNy",
        "colab_type": "text"
      },
      "source": [
        "### Exercise 5\n",
        "\n",
        "In this exercise, we give a demonstration of plotting geographic points.\n",
        "\n",
        "#### Instructions \n",
        "\n",
        "- Run the following code, to be adapted in the next section. Compare this code to that used in plotting the distillery correlations."
      ]
    },
    {
      "cell_type": "code",
      "metadata": {
        "scrolled": true,
        "id": "MlkrYDu1UyNz",
        "colab_type": "code",
        "colab": {}
      },
      "source": [
        "points = [(0,0), (1,2), (3,1)]\n",
        "xs, ys = zip(*points)\n",
        "colors = ['#0173b2', '#de8f05', '#029e73']\n",
        "\n",
        "output_file(\"Spatial_Example.html\", title=\"Regional Example\")\n",
        "location_source = ColumnDataSource(\n",
        "    data={\n",
        "        \"x\": xs,\n",
        "        \"y\": ys,\n",
        "        \"colors\": colors,\n",
        "    }\n",
        ")\n",
        "\n",
        "fig = figure(title = \"Title\",\n",
        "    x_axis_location = \"above\", tools=\"hover, save\")\n",
        "fig.plot_width  = 300\n",
        "fig.plot_height = 380\n",
        "fig.circle(\"x\", \"y\", size=10, source=location_source,\n",
        "     color='colors', line_color = None)\n",
        "\n",
        "hover = fig.select(dict(type = HoverTool))\n",
        "hover.tooltips = {\n",
        "    \"Location\": \"(@x, @y)\"\n",
        "}\n",
        "show(fig)"
      ],
      "execution_count": 0,
      "outputs": []
    },
    {
      "cell_type": "markdown",
      "metadata": {
        "id": "Xdkm6gp8UyN4",
        "colab_type": "text"
      },
      "source": [
        "### Exercise 6\n",
        "\n",
        "In this exercise, we will define a function `location_plot(title, colors)` that takes a string `title` and a list of colors corresponding to each distillery and outputs a Bokeh plot of each distillery by latitude and longitude. It will also display the distillery name, latitude, and longitude as hover text.\n",
        "\n",
        "#### Instructions \n",
        "\n",
        "- Adapt the given code beginning with the first comment and ending with `show(fig)` to create the function `location_plot()`, as described above.\n",
        "- `Region` is a column of in the `pandas` dataframe `whisky`, containing the regional group membership for each distillery. Make a list consisting of the value of `region_colors` for each distillery, and store this list as `region_cols`.\n",
        "- Use `location_plot` to plot each distillery, colored by its regional grouping."
      ]
    },
    {
      "cell_type": "code",
      "metadata": {
        "scrolled": true,
        "id": "uhZvMGQmUyN4",
        "colab_type": "code",
        "colab": {}
      },
      "source": [
        "# edit this to make the function `location_plot`.\n",
        "def location_plot(title, colors):\n",
        "  output_file(title+\".html\")\n",
        "  location_source = ColumnDataSource(\n",
        "      data = {\n",
        "          \"x\": whisky[\" Latitude\"],\n",
        "          \"y\": whisky[\" Longitude\"],\n",
        "          \"colors\": colors,\n",
        "          \"regions\": whisky.Region,\n",
        "          \"distilleries\": whisky.Distillery\n",
        "      }\n",
        "  )\n",
        "\n",
        "  fig = figure(title = title,\n",
        "      x_axis_location = \"above\", tools=\"hover, save\")\n",
        "  fig.plot_width  = 400\n",
        "  fig.plot_height = 500\n",
        "  fig.circle(\"x\", \"y\", size=9, source=location_source, color='colors', line_color = None)\n",
        "  fig.xaxis.major_label_orientation = np.pi / 3\n",
        "  hover = fig.select(dict(type = HoverTool))\n",
        "  hover.tooltips = {\n",
        "      \"Distillery\": \"@distilleries\",\n",
        "      \"Location\": \"(@x, @y)\"\n",
        "  }\n",
        "  show(fig)\n",
        "\n",
        "region_cols = [region_colors[i] for i in list(whisky[\"Region\"])]\n",
        "location_plot(\"Whisky Locations and Regions\", region_cols)"
      ],
      "execution_count": 0,
      "outputs": []
    },
    {
      "cell_type": "markdown",
      "metadata": {
        "id": "2-mSDmN7UyN8",
        "colab_type": "text"
      },
      "source": [
        "### Exercise 7 \n",
        "\n",
        "In this exercise, we will use this function to plot each distillery, colored by region and taste coclustering classification, respectively.\n",
        "\n",
        "#### Instructions \n",
        "- Create the list `region_cols` consisting of the color in `region_colors` that corresponds to each whisky in `whisky.Region`.\n",
        "- Similarly, create a list `classification_cols` consisting of the color in `cluster_colors` that corresponds to each cluster membership in `whisky.Group`.\n",
        "- Create two interactive plots of distilleries, one using `region_cols` and the other with colors defined by called `classification_cols`. How well do the coclustering groupings match the regional groupings?"
      ]
    },
    {
      "cell_type": "code",
      "metadata": {
        "scrolled": true,
        "id": "ERQMXexZUyN9",
        "colab_type": "code",
        "colab": {}
      },
      "source": [
        "region_cols = [region_colors[i] for i in list(whisky.Region)]\n",
        "classification_cols = [cluster_colors[i] for i in list(whisky.Group)]\n",
        "\n",
        "location_plot(\"Whisky Locations and Regions\", region_cols)\n",
        "location_plot(\"Whisky Locations and Groups\", classification_cols)"
      ],
      "execution_count": 0,
      "outputs": []
    }
  ]
}